{
 "cells": [
  {
   "cell_type": "code",
   "execution_count": null,
   "id": "93cf5647",
   "metadata": {},
   "outputs": [],
   "source": [
    "\n",
    "import matplotlib.pyplot as plt\n",
    "import numpy as np\n",
    "import random\n",
    "import math\n",
    "from IPython.display import display, HTML\n",
    "import json\n",
    "import pathlib\n",
    "    "
   ]
  },
  {
   "cell_type": "code",
   "execution_count": null,
   "id": "27d052e4",
   "metadata": {},
   "outputs": [],
   "source": [
    "\n",
    "def load_config(fname):\n",
    "    d = {}\n",
    "    if pathlib.Path(fname).is_file():\n",
    "        with open(fname,\"r\") as f:\n",
    "            d = json.load(f)\n",
    "    else:\n",
    "        id = input(\"Student Id\")\n",
    "        name = input(\"Student Name\")\n",
    "        d[\"student_id\"] = id\n",
    "        d[\"student_name\"] = name\n",
    "        with open(fname,\"w\") as f:\n",
    "            json.dump(d,f)\n",
    "    return d\n",
    "\n",
    "config=load_config(\"config.json\")\n",
    "print(config)    \n"
   ]
  },
  {
   "cell_type": "markdown",
   "id": "bd20d28c",
   "metadata": {},
   "source": [
    "<!-- <div class=\"question_frame\"> --><!-- start of question_frame -->",
    ""
   ]
  },
  {
   "cell_type": "code",
   "execution_count": null,
   "id": "53ac8cd4",
   "metadata": {},
   "outputs": [],
   "source": [
    "t = \"\"\"\n",
    "\n",
    "        <h1>Mystery Program</h1>\n",
    "        <div class=\"question_body\">\n",
    "             \n",
    "<p>Given is the following mystery program.</p>\n",
    "\n",
    "<code>\n",
    "<pre>\n",
    "\n",
    "# DO NOT EDIT THIS CODE\n",
    "def f(p1):\n",
    "    q1 = [21,46,46,72,10,53,15,94,30,32,20,14]\n",
    "    s = 0\n",
    "    for i in range(len(q1)):\n",
    "        p = q1[i % len(q1)]\n",
    "        if s == p1[i]:\n",
    "            s = s + p\n",
    "    return s == 259\n",
    "# DO NOT EDIT THIS CODE\n",
    "\n",
    "</pre>\n",
    "</code>\n",
    "\n",
    "        </div><!-- end of question_body -->\n",
    "    \n",
    "\"\"\"\n",
    "display(HTML(t))"
   ]
  },
  {
   "cell_type": "markdown",
   "id": "99e98d63",
   "metadata": {},
   "source": [
    "",
    "<div class=\"question_marks\">",
    "<span class=\"mark_num\" style=\"text-align:right\">12</span> marks",
    "</div><!-- end of question_marks -->",
    ""
   ]
  },
  {
   "cell_type": "code",
   "execution_count": null,
   "id": "485dad69",
   "metadata": {},
   "outputs": [],
   "source": [
    "\n",
    "# Find an input such that the routine f(p1) returns True\n",
    "# Modify the value of p1 here\n",
    "p1 = [ 0,0,0,0,0,0,0,0,0,0,0,0 ]\n",
    "r = f(p1)\n",
    "print(\"p1:\",p1,\"result:\", r, \"passed:\", \"passed\" if r == True else \"failed\")\n"
   ]
  },
  {
   "cell_type": "markdown",
   "id": "16471fc7",
   "metadata": {},
   "source": [
    "<p>Show your work and explain your answer in this cell. You can add additional markdown and code cells, if you want to after this cell.</p>"
   ]
  },
  {
   "cell_type": "markdown",
   "id": "5c5803ed",
   "metadata": {},
   "source": [
    "<!-- </div> --><!-- end of question_frame -->",
    ""
   ]
  },
  {
   "cell_type": "markdown",
   "id": "7db6aeb7",
   "metadata": {},
   "source": [
    "<!-- <div class=\"question_frame\"> --><!-- start of question_frame -->",
    ""
   ]
  },
  {
   "cell_type": "code",
   "execution_count": null,
   "id": "8866c0d1",
   "metadata": {},
   "outputs": [],
   "source": [
    "t = \"\"\"\n",
    "\n",
    "        <h1>Runtime Complexity</h1>\n",
    "        <div class=\"question_body\">\n",
    "             \n",
    "<p>You call the routine <code>f</code> with an input list of length\n",
    "54000. You measure a time of 0.54 seconds for the routine to\n",
    "complete.</p>\n",
    "\n",
    "        </div><!-- end of question_body -->\n",
    "    \n",
    "\"\"\"\n",
    "display(HTML(t))"
   ]
  },
  {
   "cell_type": "markdown",
   "id": "c2fed584",
   "metadata": {},
   "source": [
    "",
    "<div class=\"question_marks\">",
    "<span class=\"mark_num\" style=\"text-align:right\">5</span> marks",
    "</div><!-- end of question_marks -->",
    ""
   ]
  },
  {
   "cell_type": "markdown",
   "id": "d6ca8022",
   "metadata": {},
   "source": [
    "",
    "<p>Estimate the runtime of the routine <code>f</code>, if you call",
    "the routine with an input list of length 102000.</p>",
    "",
    "<p>Runtime of routine <code>f</code> with an input list of",
    "length 102000: [ENTER YOUR ANSWER HERE]</p>",
    ""
   ]
  },
  {
   "cell_type": "markdown",
   "id": "923e31f9",
   "metadata": {},
   "source": [
    "<p>Show your work and explain your answer in this cell. If you want to, you can add additional markdown and code cells after this cell.</p>"
   ]
  },
  {
   "cell_type": "markdown",
   "id": "c43a553e",
   "metadata": {},
   "source": [
    "<!-- </div> --><!-- end of question_frame -->",
    ""
   ]
  }
 ],
 "metadata": {},
 "nbformat": 4,
 "nbformat_minor": 5
}
